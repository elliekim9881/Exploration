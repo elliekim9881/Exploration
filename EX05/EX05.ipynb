{
 "cells": [
  {
   "cell_type": "code",
   "execution_count": 1,
   "id": "e29cf5fe",
   "metadata": {},
   "outputs": [],
   "source": [
    "import tensorflow as tf\n",
    "import tensorflow_datasets as tfds\n",
    "import os\n",
    "import re\n",
    "import numpy as np\n",
    "import matplotlib.pyplot as plt\n",
    "import pandas as pd\n",
    "import tensorflow_datasets as tfds"
   ]
  },
  {
   "cell_type": "code",
   "execution_count": 3,
   "id": "836a1935",
   "metadata": {},
   "outputs": [
    {
     "name": "stdout",
     "output_type": "stream",
     "text": [
      "2.6.0\n"
     ]
    }
   ],
   "source": [
    "print(tf.__version__)"
   ]
  },
  {
   "cell_type": "markdown",
   "id": "c36be093",
   "metadata": {},
   "source": [
    "# 1. data 수집하기\n",
    "- 한국어 챗봇 데이터는 송영숙님이 공개한 챗봇 데이터를 사용.\n",
    "- https://github.com/songys/Chatbot_data/blob/master/ChatbotData.csv"
   ]
  },
  {
   "cell_type": "code",
   "execution_count": 5,
   "id": "6ec5841d",
   "metadata": {},
   "outputs": [
    {
     "data": {
      "text/html": [
       "<div>\n",
       "<style scoped>\n",
       "    .dataframe tbody tr th:only-of-type {\n",
       "        vertical-align: middle;\n",
       "    }\n",
       "\n",
       "    .dataframe tbody tr th {\n",
       "        vertical-align: top;\n",
       "    }\n",
       "\n",
       "    .dataframe thead th {\n",
       "        text-align: right;\n",
       "    }\n",
       "</style>\n",
       "<table border=\"1\" class=\"dataframe\">\n",
       "  <thead>\n",
       "    <tr style=\"text-align: right;\">\n",
       "      <th></th>\n",
       "      <th>Q</th>\n",
       "      <th>A</th>\n",
       "      <th>label</th>\n",
       "    </tr>\n",
       "  </thead>\n",
       "  <tbody>\n",
       "    <tr>\n",
       "      <th>0</th>\n",
       "      <td>12시 땡!</td>\n",
       "      <td>하루가 또 가네요.</td>\n",
       "      <td>0</td>\n",
       "    </tr>\n",
       "    <tr>\n",
       "      <th>1</th>\n",
       "      <td>1지망 학교 떨어졌어</td>\n",
       "      <td>위로해 드립니다.</td>\n",
       "      <td>0</td>\n",
       "    </tr>\n",
       "    <tr>\n",
       "      <th>2</th>\n",
       "      <td>3박4일 놀러가고 싶다</td>\n",
       "      <td>여행은 언제나 좋죠.</td>\n",
       "      <td>0</td>\n",
       "    </tr>\n",
       "    <tr>\n",
       "      <th>3</th>\n",
       "      <td>3박4일 정도 놀러가고 싶다</td>\n",
       "      <td>여행은 언제나 좋죠.</td>\n",
       "      <td>0</td>\n",
       "    </tr>\n",
       "    <tr>\n",
       "      <th>4</th>\n",
       "      <td>PPL 심하네</td>\n",
       "      <td>눈살이 찌푸려지죠.</td>\n",
       "      <td>0</td>\n",
       "    </tr>\n",
       "    <tr>\n",
       "      <th>...</th>\n",
       "      <td>...</td>\n",
       "      <td>...</td>\n",
       "      <td>...</td>\n",
       "    </tr>\n",
       "    <tr>\n",
       "      <th>11818</th>\n",
       "      <td>훔쳐보는 것도 눈치 보임.</td>\n",
       "      <td>티가 나니까 눈치가 보이는 거죠!</td>\n",
       "      <td>2</td>\n",
       "    </tr>\n",
       "    <tr>\n",
       "      <th>11819</th>\n",
       "      <td>훔쳐보는 것도 눈치 보임.</td>\n",
       "      <td>훔쳐보는 거 티나나봐요.</td>\n",
       "      <td>2</td>\n",
       "    </tr>\n",
       "    <tr>\n",
       "      <th>11820</th>\n",
       "      <td>흑기사 해주는 짝남.</td>\n",
       "      <td>설렜겠어요.</td>\n",
       "      <td>2</td>\n",
       "    </tr>\n",
       "    <tr>\n",
       "      <th>11821</th>\n",
       "      <td>힘든 연애 좋은 연애라는게 무슨 차이일까?</td>\n",
       "      <td>잘 헤어질 수 있는 사이 여부인 거 같아요.</td>\n",
       "      <td>2</td>\n",
       "    </tr>\n",
       "    <tr>\n",
       "      <th>11822</th>\n",
       "      <td>힘들어서 결혼할까봐</td>\n",
       "      <td>도피성 결혼은 하지 않길 바라요.</td>\n",
       "      <td>2</td>\n",
       "    </tr>\n",
       "  </tbody>\n",
       "</table>\n",
       "<p>11823 rows × 3 columns</p>\n",
       "</div>"
      ],
      "text/plain": [
       "                             Q                         A  label\n",
       "0                       12시 땡!                하루가 또 가네요.      0\n",
       "1                  1지망 학교 떨어졌어                 위로해 드립니다.      0\n",
       "2                 3박4일 놀러가고 싶다               여행은 언제나 좋죠.      0\n",
       "3              3박4일 정도 놀러가고 싶다               여행은 언제나 좋죠.      0\n",
       "4                      PPL 심하네                눈살이 찌푸려지죠.      0\n",
       "...                        ...                       ...    ...\n",
       "11818           훔쳐보는 것도 눈치 보임.        티가 나니까 눈치가 보이는 거죠!      2\n",
       "11819           훔쳐보는 것도 눈치 보임.             훔쳐보는 거 티나나봐요.      2\n",
       "11820              흑기사 해주는 짝남.                    설렜겠어요.      2\n",
       "11821  힘든 연애 좋은 연애라는게 무슨 차이일까?  잘 헤어질 수 있는 사이 여부인 거 같아요.      2\n",
       "11822               힘들어서 결혼할까봐        도피성 결혼은 하지 않길 바라요.      2\n",
       "\n",
       "[11823 rows x 3 columns]"
      ]
     },
     "execution_count": 5,
     "metadata": {},
     "output_type": "execute_result"
    }
   ],
   "source": [
    "data = pd.read_csv(os.getenv('HOME') + '/aiffel/transformer_chatbot/data/ChatbotData .csv')\n",
    "data"
   ]
  },
  {
   "cell_type": "markdown",
   "id": "de99e1be",
   "metadata": {},
   "source": [
    "# 2. data 전처리\n",
    "- 영어 데이터와 비슷한 전처리를 진행한다.\n",
    "- 내부 단어 토크나이저인 SubwordTextEncoder를 사용하여 전처리"
   ]
  },
  {
   "cell_type": "code",
   "execution_count": 6,
   "id": "dfa6f577",
   "metadata": {},
   "outputs": [
    {
     "name": "stdout",
     "output_type": "stream",
     "text": [
      "11823\n"
     ]
    }
   ],
   "source": [
    "# 사용할 샘플의 최대 개수 파악\n",
    "MAX_SAMPLES = 11823\n",
    "print(MAX_SAMPLES)"
   ]
  },
  {
   "cell_type": "markdown",
   "id": "e3c718ee",
   "metadata": {},
   "source": [
    "- 영어 데이터를 처리할 때와 동일하게 공백제거, 특수문자 처리 등 과정을 위한 함수 선언"
   ]
  },
  {
   "cell_type": "code",
   "execution_count": 7,
   "id": "500fdfd1",
   "metadata": {},
   "outputs": [],
   "source": [
    "# 전처리 함수 \n",
    "def preprocess_sentence(sentence):\n",
    "    # 입력받은 sentence를 소문자로 변경하고 양쪽 공백을 제거\n",
    "    sentence = sentence.lower().strip()\n",
    "\n",
    "    # 단어와 구두점(punctuation) 사이의 거리를 만듬\n",
    "    # 예를 들어서 \"I am a student.\" => \"I am a student .\"와 같이\n",
    "    # student와 온점 사이에 거리를 만듬\n",
    "    sentence = re.sub(r\"([?.!,])\", r\" \\1 \", sentence)\n",
    "    sentence = re.sub(r'[\" \"]+', \" \", sentence)\n",
    "\n",
    "    # (a-z, A-Z, \".\", \"?\", \"!\", \",\")를 제외한 모든 문자를 공백인 ' '로 대체\n",
    "    sentence = re.sub(r'[^가-힣?.!,]+', ' ', sentence)\n",
    "    sentence = sentence.strip()\n",
    "    return sentence"
   ]
  },
  {
   "cell_type": "code",
   "execution_count": 8,
   "id": "c1a07a84",
   "metadata": {},
   "outputs": [],
   "source": [
    "# 질문과 답변의 쌍인 데이터셋을 구성하기 위한 데이터 로드 함수\n",
    "def load_conversations():\n",
    "    inputs, outputs = [], []\n",
    "  \n",
    "    for i in range(len(data)):\n",
    "        # 전처리 함수를 질문에 해당되는 inputs와 답변에 해당되는 outputs에 적용.\n",
    "        inputs.append(preprocess_sentence(data['Q'][i])) #questions\n",
    "        outputs.append(preprocess_sentence(data['A'][i])) #answers\n",
    "       \n",
    "        if len(inputs) >= MAX_SAMPLES:\n",
    "            return inputs, outputs\n",
    "        \n",
    "    return inputs, outputs"
   ]
  },
  {
   "cell_type": "markdown",
   "id": "44cc0f3e",
   "metadata": {},
   "source": [
    "- 데이터를 로드하고 전처리하여 질문을 questions, 답변을 answers에 저장한다."
   ]
  },
  {
   "cell_type": "code",
   "execution_count": 9,
   "id": "fa69e070",
   "metadata": {},
   "outputs": [
    {
     "name": "stdout",
     "output_type": "stream",
     "text": [
      "전체 샘플 수 : 11823\n",
      "전체 샘플 수 : 11823\n"
     ]
    }
   ],
   "source": [
    "questions, answers = load_conversations()\n",
    "print('전체 샘플 수 :', len(questions))\n",
    "print('전체 샘플 수 :', len(answers))"
   ]
  },
  {
   "cell_type": "markdown",
   "id": "9fbdb3b4",
   "metadata": {},
   "source": [
    "- SubwordTextEncoder 생성"
   ]
  },
  {
   "cell_type": "code",
   "execution_count": 10,
   "id": "e535c885",
   "metadata": {},
   "outputs": [
    {
     "name": "stdout",
     "output_type": "stream",
     "text": [
      "START_TOKEN의 번호 : [8127]\n",
      "END_TOKEN의 번호 : [8128]\n",
      "8129\n"
     ]
    }
   ],
   "source": [
    "# 질문과 답변 데이터셋에 대해서 Vocabulary 생성\n",
    "tokenizer = tfds.deprecated.text.SubwordTextEncoder.build_from_corpus(questions + answers, target_vocab_size=2**13)\n",
    "\n",
    "# 시작 토큰과 종료 토큰에 고유한 정수를 부여\n",
    "\n",
    "START_TOKEN, END_TOKEN = [tokenizer.vocab_size], [tokenizer.vocab_size + 1]\n",
    "print('START_TOKEN의 번호 :' ,[tokenizer.vocab_size])\n",
    "print('END_TOKEN의 번호 :' ,[tokenizer.vocab_size + 1])\n",
    "\n",
    "# 시작 토큰과 종료 토큰을 고려하여 +2를 하여 단어장의 크기를 산정\n",
    "VOCAB_SIZE = tokenizer.vocab_size + 2\n",
    "print(VOCAB_SIZE)"
   ]
  },
  {
   "cell_type": "markdown",
   "id": "2356e0ad",
   "metadata": {},
   "source": [
    "- 각 샘플들에 대하여 정수 인코딩 작업을 수행한다.\n",
    "- 각 샘플들의 최대 허용 길이 지정을 위하여 임의의 샘플에 대하여 정수 인코딩 작업 수행."
   ]
  },
  {
   "cell_type": "code",
   "execution_count": 12,
   "id": "e637afe7",
   "metadata": {},
   "outputs": [
    {
     "name": "stdout",
     "output_type": "stream",
     "text": [
      "정수 인코딩 후의 30번째 질문 샘플: [7846, 172, 546, 37]\n",
      "정수 인코딩 후의 30번째 답변 샘플: [1918, 5318, 6393, 7903, 70, 2072, 1202, 1]\n"
     ]
    }
   ],
   "source": [
    "print('정수 인코딩 후의 31번째 질문 샘플: {}'.format(tokenizer.encode(questions[30])))\n",
    "print('정수 인코딩 후의 31번째 답변 샘플: {}'.format(tokenizer.encode(answers[30])))"
   ]
  },
  {
   "cell_type": "code",
   "execution_count": 13,
   "id": "7265253b",
   "metadata": {},
   "outputs": [],
   "source": [
    "# 샘플의 최대 허용 길이 또는 패딩 후의 최종 길이\n",
    "MAX_LENGTH = 40"
   ]
  },
  {
   "cell_type": "markdown",
   "id": "25b545ec",
   "metadata": {},
   "source": [
    "- 정수 인코딩, 최대 길이를 초과하는 샘플 제거, 패딩 함수 선언"
   ]
  },
  {
   "cell_type": "code",
   "execution_count": 14,
   "id": "0f578aaa",
   "metadata": {},
   "outputs": [],
   "source": [
    "def tokenize_and_filter(inputs, outputs):\n",
    "    tokenized_inputs, tokenized_outputs = [], []\n",
    "  \n",
    "    for (sentence1, sentence2) in zip(inputs, outputs):\n",
    "        # 정수 인코딩 과정에서 시작 토큰과 종료 토큰을 추가\n",
    "        sentence1 = START_TOKEN + tokenizer.encode(sentence1) + END_TOKEN\n",
    "        sentence2 = START_TOKEN + tokenizer.encode(sentence2) + END_TOKEN\n",
    "\n",
    "        # 최대 길이 40 이하인 경우에만 데이터셋으로 허용\n",
    "        if len(sentence1) <= MAX_LENGTH and len(sentence2) <= MAX_LENGTH:\n",
    "            tokenized_inputs.append(sentence1)\n",
    "            tokenized_outputs.append(sentence2)\n",
    "\n",
    "    # 최대 길이 40으로 모든 데이터셋을 패딩\n",
    "    tokenized_inputs = tf.keras.preprocessing.sequence.pad_sequences(\n",
    "        tokenized_inputs, maxlen=MAX_LENGTH, padding='post')\n",
    "    tokenized_outputs = tf.keras.preprocessing.sequence.pad_sequences(\n",
    "        tokenized_outputs, maxlen=MAX_LENGTH, padding='post')\n",
    "  \n",
    "    return tokenized_inputs, tokenized_outputs"
   ]
  },
  {
   "cell_type": "code",
   "execution_count": 15,
   "id": "736d089e",
   "metadata": {},
   "outputs": [
    {
     "name": "stdout",
     "output_type": "stream",
     "text": [
      "단어장 크기 : 8129\n",
      "필터링 후 질문 샘플 개수: 11823\n",
      "필터링 후 답변 샘플 개수: 11823\n"
     ]
    }
   ],
   "source": [
    "questions, answers = tokenize_and_filter(questions, answers)\n",
    "print('단어장 크기 :',(VOCAB_SIZE))\n",
    "print('필터링 후 질문 샘플 개수: {}'.format(len(questions)))\n",
    "print('필터링 후 답변 샘플 개수: {}'.format(len(answers)))"
   ]
  },
  {
   "cell_type": "markdown",
   "id": "f2ec4483",
   "metadata": {},
   "source": [
    "- 필터링 후 샘플의 개수와 단어장 크기의 변화는 없었다."
   ]
  },
  {
   "cell_type": "code",
   "execution_count": 16,
   "id": "0e6c965d",
   "metadata": {},
   "outputs": [],
   "source": [
    "# Teacher forcing을 위한 tfds 설정\n",
    "BATCH_SIZE = 128\n",
    "BUFFER_SIZE = 20000\n",
    "\n",
    "# 디코더는 이전의 target을 다음의 input으로 사용\n",
    "# outputs에서는 START_TOKEN을 제거\n",
    "dataset = tf.data.Dataset.from_tensor_slices((\n",
    "    {\n",
    "        'inputs': questions,\n",
    "        'dec_inputs': answers[:, :-1]\n",
    "    },\n",
    "    {\n",
    "        'outputs': answers[:, 1:]\n",
    "    },\n",
    "))\n",
    "\n",
    "dataset = dataset.cache()\n",
    "dataset = dataset.shuffle(BUFFER_SIZE)\n",
    "dataset = dataset.batch(BATCH_SIZE)\n",
    "dataset = dataset.prefetch(tf.data.experimental.AUTOTUNE)"
   ]
  },
  {
   "cell_type": "markdown",
   "id": "54a4e561",
   "metadata": {},
   "source": [
    "# 3. 모델 구성하기\n",
    "- 트렌스포머 모델을 구현해본다.\n",
    "- 모델 구현을 위한 트렌스포머 모델의 각 레이어를 먼저 구현한다."
   ]
  },
  {
   "cell_type": "markdown",
   "id": "671a060b",
   "metadata": {},
   "source": [
    "## 3.1 PositionalEncoding\n",
    "- 입력과 출력을 임베딩"
   ]
  },
  {
   "cell_type": "code",
   "execution_count": 24,
   "id": "e39dd6e4",
   "metadata": {},
   "outputs": [],
   "source": [
    "class PositionalEncoding(tf.keras.layers.Layer):\n",
    "\n",
    "    def __init__(self, position, d_model):\n",
    "        super(PositionalEncoding, self).__init__()\n",
    "        self.pos_encoding = self.positional_encoding(position, d_model)\n",
    "\n",
    "    def get_angles(self, position, i, d_model):\n",
    "        angles = 1 / tf.pow(10000, (2 * (i // 2)) / tf.cast(d_model, tf.float32))\n",
    "        return position * angles\n",
    "\n",
    "    def positional_encoding(self, position, d_model):\n",
    "        # 각도 배열 생성\n",
    "        angle_rads = self.get_angles(\n",
    "            position=tf.range(position, dtype=tf.float32)[:, tf.newaxis],\n",
    "            i=tf.range(d_model, dtype=tf.float32)[tf.newaxis, :],\n",
    "            d_model=d_model)\n",
    "        \n",
    "        # 결과 값의 범위를 -1~1 범위로 축소시켜준다. \n",
    "        # 배열의 짝수 인덱스에는 sin 함수 적용\n",
    "        sines = tf.math.sin(angle_rads[:, 0::2])\n",
    "        # 배열의 홀수 인덱스에는 cosine 함수 적용\n",
    "        cosines = tf.math.cos(angle_rads[:, 1::2])\n",
    "\n",
    "        # sin과 cosine이 교차되도록 재배열\n",
    "        pos_encoding = tf.stack([sines, cosines], axis=0)\n",
    "        pos_encoding = tf.transpose(pos_encoding,[1, 2, 0]) \n",
    "        pos_encoding = tf.reshape(pos_encoding, [position, d_model])\n",
    "\n",
    "        pos_encoding = pos_encoding[tf.newaxis, ...]\n",
    "        return tf.cast(pos_encoding, tf.float32)\n",
    "\n",
    "    def call(self, inputs):\n",
    "        return inputs + self.pos_encoding[:, :tf.shape(inputs)[1], :]"
   ]
  },
  {
   "cell_type": "code",
   "execution_count": 25,
   "id": "e9631880",
   "metadata": {},
   "outputs": [
    {
     "data": {
      "image/png": "[encoded data removed]",
      "text/plain": [
       "<Figure size 432x288 with 2 Axes>"
      ]
     },
     "metadata": {
      "needs_background": "light"
     },
     "output_type": "display_data"
    }
   ],
   "source": [
    "# 임베딩 차원이 512이고 최대 문장 길이가 50인 포지셔널 인코딩 행렬 표현\n",
    "sample_pos_encoding = PositionalEncoding(50, 512)\n",
    "\n",
    "plt.pcolormesh(sample_pos_encoding.pos_encoding.numpy()[0], cmap='RdBu')\n",
    "plt.xlabel('Depth')\n",
    "plt.xlim((0, 512))\n",
    "plt.ylabel('Position')\n",
    "plt.colorbar()\n",
    "plt.show()"
   ]
  },
  {
   "cell_type": "markdown",
   "id": "44f053bd",
   "metadata": {},
   "source": [
    "## 3.2 scaled dot product attention\n",
    "- 어텐션 값을 구하는 함수\n",
    "- 출력값이 작아지는 것을 방지하기 위하여 스케일링 필요."
   ]
  },
  {
   "cell_type": "code",
   "execution_count": 26,
   "id": "f3a19388",
   "metadata": {},
   "outputs": [],
   "source": [
    "def scaled_dot_product_attention(query, key, value, mask):\n",
    "    # 어텐션 가중치는 Q와 K의 닷 프로덕트\n",
    "    matmul_qk = tf.matmul(query, key, transpose_b=True)\n",
    "\n",
    "    # 가중치를 정규화\n",
    "    depth = tf.cast(tf.shape(key)[-1], tf.float32)\n",
    "    logits = matmul_qk / tf.math.sqrt(depth)\n",
    "\n",
    "    # 패딩에 마스크 추가\n",
    "    if mask is not None:\n",
    "        logits += (mask * -1e9)\n",
    "\n",
    "    # softmax적용\n",
    "    attention_weights = tf.nn.softmax(logits, axis=-1)\n",
    "\n",
    "    # 최종 어텐션은 가중치와 V의 닷 프로덕트\n",
    "    output = tf.matmul(attention_weights, value)\n",
    "    return output"
   ]
  },
  {
   "cell_type": "markdown",
   "id": "f1530385",
   "metadata": {},
   "source": [
    "## 3.3 MultiHeadAttention\n",
    "- 기존 어텐션과 다르게 num_heads 만큼 나누어서 어텐션을 수행하고 다시 하나로 concat"
   ]
  },
  {
   "cell_type": "code",
   "execution_count": 27,
   "id": "8a6eeee4",
   "metadata": {},
   "outputs": [],
   "source": [
    "class MultiHeadAttention(tf.keras.layers.Layer):\n",
    "    def __init__(self, d_model, num_heads, name=\"multi_head_attention\"):\n",
    "        super(MultiHeadAttention, self).__init__(name=name)\n",
    "        # 해드 수\n",
    "        self.num_heads = num_heads\n",
    "        # 임베딩 벡터 차원수\n",
    "        self.d_model = d_model\n",
    "\n",
    "        # 나누어 떨어지지않으면 문제 생길 수 있어서 예외 처리\n",
    "        assert d_model % self.num_heads == 0\n",
    "\n",
    "        self.depth = d_model // self.num_heads\n",
    "\n",
    "        self.query_dense = tf.keras.layers.Dense(units=d_model)\n",
    "        self.key_dense = tf.keras.layers.Dense(units=d_model)\n",
    "        self.value_dense = tf.keras.layers.Dense(units=d_model)\n",
    "\n",
    "        self.dense = tf.keras.layers.Dense(units=d_model)\n",
    "\n",
    "    def split_heads(self, inputs, batch_size):\n",
    "        inputs = tf.reshape(\n",
    "            inputs, shape=(batch_size, -1, self.num_heads, self.depth))\n",
    "        return tf.transpose(inputs, perm=[0, 2, 1, 3])\n",
    "\n",
    "    def call(self, inputs):\n",
    "        query, key, value, mask = inputs['query'], inputs['key'], inputs[\n",
    "            'value'], inputs['mask']\n",
    "        batch_size = tf.shape(query)[0]\n",
    "\n",
    "        # Q, K, V에 각각 Dense를 적용합니다\n",
    "        query = self.query_dense(query)\n",
    "        key = self.key_dense(key)\n",
    "        value = self.value_dense(value)\n",
    "\n",
    "        # 병렬 연산을 위한 머리를 여러 개 만듭니다\n",
    "        query = self.split_heads(query, batch_size)\n",
    "        key = self.split_heads(key, batch_size)\n",
    "        value = self.split_heads(value, batch_size)\n",
    "\n",
    "        # 스케일드 닷 프로덕트 어텐션 함수\n",
    "        scaled_attention = scaled_dot_product_attention(query, key, value, mask)\n",
    "\n",
    "        scaled_attention = tf.transpose(scaled_attention, perm=[0, 2, 1, 3])\n",
    "\n",
    "        # 어텐션 연산 후에 각 결과를 다시 연결(concatenate)합니다\n",
    "        concat_attention = tf.reshape(scaled_attention,\n",
    "                                      (batch_size, -1, self.d_model))\n",
    "\n",
    "        # 최종 결과에도 Dense를 한 번 더 적용합니다\n",
    "        outputs = self.dense(concat_attention)\n",
    "\n",
    "        return outputs"
   ]
  },
  {
   "cell_type": "markdown",
   "id": "5240f0b3",
   "metadata": {},
   "source": [
    "## 3.4 masking\n",
    "- Padding token을 이용"
   ]
  },
  {
   "cell_type": "code",
   "execution_count": 28,
   "id": "0fba2c13",
   "metadata": {},
   "outputs": [],
   "source": [
    "def create_padding_mask(x):\n",
    "    mask = tf.cast(tf.math.equal(x, 0), tf.float32)\n",
    "    # (batch_size, 1, 1, sequence length)\n",
    "    return mask[:, tf.newaxis, tf.newaxis, :]"
   ]
  },
  {
   "cell_type": "code",
   "execution_count": 29,
   "id": "22078cd8",
   "metadata": {},
   "outputs": [],
   "source": [
    "# 룩 어헤드 마스킹\n",
    "def create_look_ahead_mask(x):\n",
    "    seq_len = tf.shape(x)[1]\n",
    "    look_ahead_mask = 1 - tf.linalg.band_part(tf.ones((seq_len, seq_len)), -1, 0)\n",
    "    padding_mask = create_padding_mask(x)\n",
    "    return tf.maximum(look_ahead_mask, padding_mask)"
   ]
  },
  {
   "cell_type": "markdown",
   "id": "fe063da0",
   "metadata": {},
   "source": [
    "## 3.5 Encoder layer\n",
    "- 인코더 레이어 하나를 함수로 구현."
   ]
  },
  {
   "cell_type": "code",
   "execution_count": 30,
   "id": "dc7c3050",
   "metadata": {},
   "outputs": [],
   "source": [
    "def encoder_layer(units, d_model, num_heads, dropout, name=\"encoder_layer\"):\n",
    "    inputs = tf.keras.Input(shape=(None, d_model), name=\"inputs\")\n",
    "\n",
    "    # 패딩 마스크 사용\n",
    "    padding_mask = tf.keras.Input(shape=(1, 1, None), name=\"padding_mask\")\n",
    "\n",
    "    # 첫 번째 서브 레이어 : 멀티 헤드 어텐션 수행 (셀프 어텐션)\n",
    "    # 셀프 어텐션을 멀티해드로 대체함; for 병렬처리\n",
    "    attention = MultiHeadAttention(\n",
    "      d_model, num_heads, name=\"attention\")({\n",
    "          'query': inputs,\n",
    "          'key': inputs,\n",
    "          'value': inputs,\n",
    "          'mask': padding_mask\n",
    "      })\n",
    "\n",
    "    # 어텐션의 결과는 Dropout과 Layer Normalization이라는 훈련을 돕는 테크닉을 수행\n",
    "    attention = tf.keras.layers.Dropout(rate=dropout)(attention)\n",
    "    attention = tf.keras.layers.LayerNormalization(\n",
    "      epsilon=1e-6)(inputs + attention)\n",
    "\n",
    "    # 두 번째 서브 레이어 : 2개의 완전연결층\n",
    "    outputs = tf.keras.layers.Dense(units=units*4, activation='relu')(attention)\n",
    "    outputs = tf.keras.layers.Dense(units=d_model)(outputs)\n",
    "\n",
    "    # 완전연결층의 결과는 Dropout과 LayerNormalization이라는 훈련을 돕는 테크닉을 수행\n",
    "    outputs = tf.keras.layers.Dropout(rate=dropout)(outputs)\n",
    "    outputs = tf.keras.layers.LayerNormalization(epsilon=1e-6)(attention + outputs)\n",
    "\n",
    "    return tf.keras.Model(\n",
    "        inputs=[inputs, padding_mask], outputs=outputs, name=name)"
   ]
  },
  {
   "cell_type": "code",
   "execution_count": 31,
   "id": "e4b1f2c0",
   "metadata": {},
   "outputs": [],
   "source": [
    "def encoder(vocab_size,\n",
    "            units,\n",
    "            d_model,\n",
    "            num_heads,\n",
    "            dropout,\n",
    "            num_layers=6,\n",
    "            name=\"encoder\"):\n",
    "    inputs = tf.keras.Input(shape=(None,), name=\"inputs\")\n",
    "\n",
    "    # 패딩 마스크 사용\n",
    "    padding_mask = tf.keras.Input(shape=(1, 1, None), name=\"padding_mask\")\n",
    "\n",
    "    # 임베딩 레이어\n",
    "    embeddings = tf.keras.layers.Embedding(vocab_size, d_model)(inputs)\n",
    "    embeddings *= tf.math.sqrt(tf.cast(d_model, tf.float32))\n",
    "\n",
    "    # 포지셔널 인코딩\n",
    "    embeddings = PositionalEncoding(vocab_size, d_model)(embeddings)\n",
    "\n",
    "    # LayerNormalization 추가\n",
    "    outputs = tf.keras.layers.LayerNormalization(epsilon=1e-6)(embeddings)\n",
    "\n",
    "    # num_layers만큼 쌓아올린 인코더의 층.\n",
    "    for i in range(num_layers):\n",
    "        outputs = encoder_layer(\n",
    "            units=units,\n",
    "            d_model=d_model,\n",
    "            num_heads=num_heads,\n",
    "            dropout=dropout,\n",
    "            name=\"encoder_layer_{}\".format(i),\n",
    "        )([outputs, padding_mask])\n",
    "\n",
    "    return tf.keras.Model(\n",
    "      inputs=[inputs, padding_mask], outputs=outputs, name=name)"
   ]
  },
  {
   "cell_type": "markdown",
   "id": "a67876fe",
   "metadata": {},
   "source": [
    "## 3.6 decoder  layer\n",
    "- 디코더 레이어를 함수로 구현"
   ]
  },
  {
   "cell_type": "code",
   "execution_count": 32,
   "id": "bb267735",
   "metadata": {},
   "outputs": [],
   "source": [
    "def decoder_layer(units, d_model, num_heads, dropout, name=\"decoder_layer\"):\n",
    "    inputs = tf.keras.Input(shape=(None, d_model), name=\"inputs\")\n",
    "    enc_outputs = tf.keras.Input(shape=(None, d_model), name=\"encoder_outputs\")\n",
    "    look_ahead_mask = tf.keras.Input(\n",
    "      shape=(1, None, None), name=\"look_ahead_mask\")\n",
    "    padding_mask = tf.keras.Input(shape=(1, 1, None), name='padding_mask')\n",
    "\n",
    "    # 첫 번째 서브 레이어 : 멀티 헤드 어텐션 수행 (셀프 어텐션)\n",
    "    attention1 = MultiHeadAttention(\n",
    "      d_model, num_heads, name=\"attention_1\")(inputs={\n",
    "          'query': inputs,\n",
    "          'key': inputs,\n",
    "          'value': inputs,\n",
    "          'mask': look_ahead_mask\n",
    "      })\n",
    "\n",
    "    # 멀티 헤드 어텐션의 결과는 LayerNormalization이라는 훈련을 돕는 테크닉을 수행\n",
    "    attention1 = tf.keras.layers.LayerNormalization(\n",
    "      epsilon=1e-6)(attention1 + inputs)\n",
    "\n",
    "    # 두 번째 서브 레이어 : 마스크드 멀티 헤드 어텐션 수행 (인코더-디코더 어텐션)\n",
    "    attention2 = MultiHeadAttention(\n",
    "      d_model, num_heads, name=\"attention_2\")(inputs={\n",
    "          'query': attention1,\n",
    "          'key': enc_outputs,\n",
    "          'value': enc_outputs,\n",
    "          'mask': padding_mask\n",
    "      })\n",
    "\n",
    "    # Dropout과 LayerNormalization이라는 훈련을 돕는 테크닉을 수행\n",
    "    attention2 = tf.keras.layers.Dropout(rate=dropout)(attention2)\n",
    "    attention2 = tf.keras.layers.LayerNormalization(\n",
    "      epsilon=1e-6)(attention2 + attention1)\n",
    "\n",
    "    # 세 번째 서브 레이어 : 2개의 완전연결층\n",
    "    outputs = tf.keras.layers.Dense(units=units, activation='relu')(attention2)\n",
    "    outputs = tf.keras.layers.Dense(units=d_model)(outputs)\n",
    "\n",
    "    # 완전연결층의 결과는 Dropout과 LayerNormalization 수행\n",
    "    outputs = tf.keras.layers.Dropout(rate=dropout)(outputs)\n",
    "    outputs = tf.keras.layers.LayerNormalization(\n",
    "      epsilon=1e-6)(outputs + attention2)\n",
    "\n",
    "    return tf.keras.Model(\n",
    "      inputs=[inputs, enc_outputs, look_ahead_mask, padding_mask],\n",
    "      outputs=outputs,\n",
    "      name=name)"
   ]
  },
  {
   "cell_type": "code",
   "execution_count": 33,
   "id": "484f3b99",
   "metadata": {},
   "outputs": [],
   "source": [
    "def decoder(vocab_size,\n",
    "            units,\n",
    "            d_model,\n",
    "            num_heads,\n",
    "            dropout,\n",
    "            num_layers=6,  # 기본값이 없는 인자로 변경\n",
    "            name='decoder'):\n",
    "    inputs = tf.keras.Input(shape=(None,), name='inputs')\n",
    "    enc_outputs = tf.keras.Input(shape=(None, d_model), name='encoder_outputs')\n",
    "    look_ahead_mask = tf.keras.Input(\n",
    "      shape=(1, None, None), name='look_ahead_mask')\n",
    "\n",
    "    # 패딩 마스크\n",
    "    padding_mask = tf.keras.Input(shape=(1, 1, None), name='padding_mask')\n",
    "\n",
    "    # 임베딩 레이어\n",
    "    embeddings = tf.keras.layers.Embedding(vocab_size, d_model)(inputs)\n",
    "    embeddings *= tf.math.sqrt(tf.cast(d_model, tf.float32))\n",
    "\n",
    "    # 포지셔널 인코딩\n",
    "    embeddings = PositionalEncoding(vocab_size, d_model)(embeddings)\n",
    "\n",
    "    # Dropout이라는 훈련을 돕는 테크닉을 수행\n",
    "    outputs = tf.keras.layers.Dropout(rate=dropout)(embeddings)\n",
    "\n",
    "    for i in range(num_layers):\n",
    "        outputs = decoder_layer(\n",
    "            units=units,\n",
    "            d_model=d_model,\n",
    "            num_heads=num_heads,\n",
    "            dropout=dropout,\n",
    "            name='decoder_layer_{}'.format(i),\n",
    "        )(inputs=[outputs, enc_outputs, look_ahead_mask, padding_mask])\n",
    "\n",
    "    return tf.keras.Model(\n",
    "      inputs=[inputs, enc_outputs, look_ahead_mask, padding_mask],\n",
    "      outputs=outputs,\n",
    "      name=name)"
   ]
  },
  {
   "cell_type": "markdown",
   "id": "f5a38d9f",
   "metadata": {},
   "source": [
    "## 3.7 transformer 모델 구현\n",
    "- 구현한 레이어를 바탕으로 transformer 모델을 구현한다."
   ]
  },
  {
   "cell_type": "code",
   "execution_count": 34,
   "id": "38230622",
   "metadata": {},
   "outputs": [],
   "source": [
    "def transformer(vocab_size,\n",
    "                num_layers,\n",
    "                units,\n",
    "                d_model,\n",
    "                num_heads,\n",
    "                dropout,\n",
    "                name=\"transformer\"):\n",
    "    inputs = tf.keras.Input(shape=(None,), name=\"inputs\")\n",
    "    dec_inputs = tf.keras.Input(shape=(None,), name=\"dec_inputs\")\n",
    "\n",
    "    # 인코더에서 패딩을 위한 마스크\n",
    "    enc_padding_mask = tf.keras.layers.Lambda(\n",
    "      create_padding_mask, output_shape=(1, 1, None),\n",
    "      name='enc_padding_mask')(inputs)\n",
    "\n",
    "    # 디코더에서 미래의 토큰을 마스크 하기 위해서 사용\n",
    "    # 내부적으로 패딩 마스크도 포함\n",
    "    look_ahead_mask = tf.keras.layers.Lambda(\n",
    "      create_look_ahead_mask,\n",
    "      output_shape=(1, None, None),\n",
    "      name='look_ahead_mask')(dec_inputs)\n",
    "\n",
    "    # 두 번째 어텐션 블록에서 인코더의 벡터들을 마스킹\n",
    "    # 디코더에서 패딩을 위한 마스크\n",
    "    dec_padding_mask = tf.keras.layers.Lambda(\n",
    "      create_padding_mask, output_shape=(1, 1, None),\n",
    "      name='dec_padding_mask')(inputs)\n",
    "\n",
    "    # 인코더\n",
    "    enc_outputs = encoder(\n",
    "      vocab_size=vocab_size,\n",
    "      num_layers=num_layers,\n",
    "      units=units,\n",
    "      d_model=d_model,\n",
    "      num_heads=num_heads,\n",
    "      dropout=dropout,\n",
    "    )(inputs=[inputs, enc_padding_mask])\n",
    "\n",
    "    # 디코더\n",
    "    dec_outputs = decoder(\n",
    "      vocab_size=vocab_size,\n",
    "      num_layers=num_layers,\n",
    "      units=units,\n",
    "      d_model=d_model,\n",
    "      num_heads=num_heads,\n",
    "      dropout=dropout,\n",
    "    )(inputs=[dec_inputs, enc_outputs, look_ahead_mask, dec_padding_mask])\n",
    "\n",
    "    # 완전연결층\n",
    "    outputs = tf.keras.layers.Dense(units=vocab_size, name=\"outputs\")(dec_outputs)\n",
    "\n",
    "    return tf.keras.Model(inputs=[inputs, dec_inputs], outputs=outputs, name=name)"
   ]
  },
  {
   "cell_type": "markdown",
   "id": "30c87676",
   "metadata": {},
   "source": [
    "- 모델 생성"
   ]
  },
  {
   "cell_type": "code",
   "execution_count": 35,
   "id": "56180863",
   "metadata": {},
   "outputs": [
    {
     "name": "stdout",
     "output_type": "stream",
     "text": [
      "Model: \"transformer\"\n",
      "__________________________________________________________________________________________________\n",
      "Layer (type)                    Output Shape         Param #     Connected to                     \n",
      "==================================================================================================\n",
      "inputs (InputLayer)             [(None, None)]       0                                            \n",
      "__________________________________________________________________________________________________\n",
      "dec_inputs (InputLayer)         [(None, None)]       0                                            \n",
      "__________________________________________________________________________________________________\n",
      "enc_padding_mask (Lambda)       (None, 1, 1, None)   0           inputs[0][0]                     \n",
      "__________________________________________________________________________________________________\n",
      "encoder (Functional)            (None, None, 256)    4711680     inputs[0][0]                     \n",
      "                                                                 enc_padding_mask[0][0]           \n",
      "__________________________________________________________________________________________________\n",
      "look_ahead_mask (Lambda)        (None, 1, None, None 0           dec_inputs[0][0]                 \n",
      "__________________________________________________________________________________________________\n",
      "dec_padding_mask (Lambda)       (None, 1, 1, None)   0           inputs[0][0]                     \n",
      "__________________________________________________________________________________________________\n",
      "decoder (Functional)            (None, None, 256)    3662592     dec_inputs[0][0]                 \n",
      "                                                                 encoder[0][0]                    \n",
      "                                                                 look_ahead_mask[0][0]            \n",
      "                                                                 dec_padding_mask[0][0]           \n",
      "__________________________________________________________________________________________________\n",
      "outputs (Dense)                 (None, None, 8129)   2089153     decoder[0][0]                    \n",
      "==================================================================================================\n",
      "Total params: 10,463,425\n",
      "Trainable params: 10,463,425\n",
      "Non-trainable params: 0\n",
      "__________________________________________________________________________________________________\n"
     ]
    }
   ],
   "source": [
    "tf.keras.backend.clear_session()\n",
    "\n",
    "# 하이퍼파라미터\n",
    "NUM_LAYERS = 2 # 인코더와 디코더의 층의 개수\n",
    "D_MODEL = 256 # 인코더와 디코더 내부의 입, 출력의 고정 차원\n",
    "NUM_HEADS = 8 # 멀티 헤드 어텐션에서의 헤드 수 \n",
    "UNITS = 512 # 피드 포워드 신경망의 은닉층의 크기\n",
    "DROPOUT = 0.1 # 드롭아웃의 비율\n",
    "\n",
    "model = transformer(\n",
    "    vocab_size=VOCAB_SIZE,\n",
    "    num_layers=NUM_LAYERS,\n",
    "    units=UNITS,\n",
    "    d_model=D_MODEL,\n",
    "    num_heads=NUM_HEADS,\n",
    "    dropout=DROPOUT)\n",
    "\n",
    "model.summary()"
   ]
  },
  {
   "cell_type": "markdown",
   "id": "dd2dedce",
   "metadata": {},
   "source": [
    "- 손실함수로 SparseCategoricalCrossentropy 를 사용"
   ]
  },
  {
   "cell_type": "code",
   "execution_count": 36,
   "id": "085c3f25",
   "metadata": {},
   "outputs": [],
   "source": [
    "def loss_function(y_true, y_pred):\n",
    "    y_true = tf.reshape(y_true, shape=(-1, MAX_LENGTH - 1))\n",
    "\n",
    "    loss = tf.keras.losses.SparseCategoricalCrossentropy(\n",
    "        from_logits=True, reduction='none')(y_true, y_pred)\n",
    "\n",
    "    mask = tf.cast(tf.not_equal(y_true, 0), tf.float32)\n",
    "    loss = tf.multiply(loss, mask)\n",
    "\n",
    "    return tf.reduce_mean(loss)"
   ]
  },
  {
   "cell_type": "markdown",
   "id": "fedf2d9a",
   "metadata": {},
   "source": [
    "- 학습 진행도에 따라서 학습률을 설정해준다."
   ]
  },
  {
   "cell_type": "code",
   "execution_count": 37,
   "id": "cf8ca222",
   "metadata": {},
   "outputs": [],
   "source": [
    "class CustomSchedule(tf.keras.optimizers.schedules.LearningRateSchedule):\n",
    "    def __init__(self, d_model, warmup_steps=4000):\n",
    "        super(CustomSchedule, self).__init__()\n",
    "\n",
    "        self.d_model = d_model\n",
    "        self.d_model = tf.cast(self.d_model, tf.float32)\n",
    "\n",
    "        self.warmup_steps = warmup_steps\n",
    "\n",
    "    def __call__(self, step):\n",
    "        arg1 = tf.math.rsqrt(step)\n",
    "        arg2 = step * (self.warmup_steps**-1.5)\n",
    "\n",
    "        return tf.math.rsqrt(self.d_model) * tf.math.minimum(arg1, arg2)"
   ]
  },
  {
   "cell_type": "markdown",
   "id": "bb10c51a",
   "metadata": {},
   "source": [
    "- 모델 compile"
   ]
  },
  {
   "cell_type": "code",
   "execution_count": 38,
   "id": "c7e24b80",
   "metadata": {},
   "outputs": [],
   "source": [
    "learning_rate = CustomSchedule(D_MODEL)\n",
    "\n",
    "optimizer = tf.keras.optimizers.Adam(\n",
    "    learning_rate, beta_1=0.9, beta_2=0.98, epsilon=1e-9)\n",
    "\n",
    "def accuracy(y_true, y_pred):\n",
    "    y_true = tf.reshape(y_true, shape=(-1, MAX_LENGTH - 1))\n",
    "    return tf.keras.metrics.sparse_categorical_accuracy(y_true, y_pred)\n",
    "\n",
    "model.compile(optimizer=optimizer, loss=loss_function, metrics=[accuracy])"
   ]
  },
  {
   "cell_type": "code",
   "execution_count": 39,
   "id": "537c4bee",
   "metadata": {
    "scrolled": false
   },
   "outputs": [
    {
     "name": "stdout",
     "output_type": "stream",
     "text": [
      "Epoch 1/100\n",
      "93/93 [==============================] - 29s 104ms/step - loss: 1.5144 - accuracy: 0.0170\n",
      "Epoch 2/100\n",
      "93/93 [==============================] - 10s 104ms/step - loss: 1.3804 - accuracy: 0.0438\n",
      "Epoch 3/100\n",
      "93/93 [==============================] - 10s 105ms/step - loss: 1.2311 - accuracy: 0.0493\n",
      "Epoch 4/100\n",
      "93/93 [==============================] - 10s 106ms/step - loss: 1.1000 - accuracy: 0.0499\n",
      "Epoch 5/100\n",
      "93/93 [==============================] - 10s 106ms/step - loss: 1.0074 - accuracy: 0.0504\n",
      "Epoch 6/100\n",
      "93/93 [==============================] - 10s 107ms/step - loss: 0.9494 - accuracy: 0.0528\n",
      "Epoch 7/100\n",
      "93/93 [==============================] - 10s 108ms/step - loss: 0.9055 - accuracy: 0.0554\n",
      "Epoch 8/100\n",
      "93/93 [==============================] - 10s 108ms/step - loss: 0.8645 - accuracy: 0.0576\n",
      "Epoch 9/100\n",
      "93/93 [==============================] - 10s 108ms/step - loss: 0.8231 - accuracy: 0.0605\n",
      "Epoch 10/100\n",
      "93/93 [==============================] - 10s 107ms/step - loss: 0.7792 - accuracy: 0.0643\n",
      "Epoch 11/100\n",
      "93/93 [==============================] - 10s 107ms/step - loss: 0.7294 - accuracy: 0.0691\n",
      "Epoch 12/100\n",
      "93/93 [==============================] - 10s 107ms/step - loss: 0.6756 - accuracy: 0.0753\n",
      "Epoch 13/100\n",
      "93/93 [==============================] - 10s 106ms/step - loss: 0.6163 - accuracy: 0.0826\n",
      "Epoch 14/100\n",
      "93/93 [==============================] - 10s 107ms/step - loss: 0.5533 - accuracy: 0.0904\n",
      "Epoch 15/100\n",
      "93/93 [==============================] - 10s 107ms/step - loss: 0.4908 - accuracy: 0.0987\n",
      "Epoch 16/100\n",
      "93/93 [==============================] - 10s 107ms/step - loss: 0.4266 - accuracy: 0.1078\n",
      "Epoch 17/100\n",
      "93/93 [==============================] - 10s 108ms/step - loss: 0.3622 - accuracy: 0.1181\n",
      "Epoch 18/100\n",
      "93/93 [==============================] - 10s 107ms/step - loss: 0.2999 - accuracy: 0.1283\n",
      "Epoch 19/100\n",
      "93/93 [==============================] - 10s 107ms/step - loss: 0.2405 - accuracy: 0.1389\n",
      "Epoch 20/100\n",
      "93/93 [==============================] - 10s 107ms/step - loss: 0.1864 - accuracy: 0.1479\n",
      "Epoch 21/100\n",
      "93/93 [==============================] - 10s 107ms/step - loss: 0.1388 - accuracy: 0.1563\n",
      "Epoch 22/100\n",
      "93/93 [==============================] - 10s 107ms/step - loss: 0.1011 - accuracy: 0.1622\n",
      "Epoch 23/100\n",
      "93/93 [==============================] - 10s 107ms/step - loss: 0.0708 - accuracy: 0.1669\n",
      "Epoch 24/100\n",
      "93/93 [==============================] - 10s 107ms/step - loss: 0.0490 - accuracy: 0.1697\n",
      "Epoch 25/100\n",
      "93/93 [==============================] - 10s 107ms/step - loss: 0.0351 - accuracy: 0.1710\n",
      "Epoch 26/100\n",
      "93/93 [==============================] - 10s 107ms/step - loss: 0.0268 - accuracy: 0.1716\n",
      "Epoch 27/100\n",
      "93/93 [==============================] - 10s 107ms/step - loss: 0.0215 - accuracy: 0.1719\n",
      "Epoch 28/100\n",
      "93/93 [==============================] - 10s 107ms/step - loss: 0.0187 - accuracy: 0.1719\n",
      "Epoch 29/100\n",
      "93/93 [==============================] - 10s 107ms/step - loss: 0.0173 - accuracy: 0.1718\n",
      "Epoch 30/100\n",
      "93/93 [==============================] - 10s 107ms/step - loss: 0.0159 - accuracy: 0.1720\n",
      "Epoch 31/100\n",
      "93/93 [==============================] - 10s 107ms/step - loss: 0.0156 - accuracy: 0.1719\n",
      "Epoch 32/100\n",
      "93/93 [==============================] - 10s 107ms/step - loss: 0.0147 - accuracy: 0.1719\n",
      "Epoch 33/100\n",
      "93/93 [==============================] - 10s 107ms/step - loss: 0.0146 - accuracy: 0.1719\n",
      "Epoch 34/100\n",
      "93/93 [==============================] - 10s 107ms/step - loss: 0.0136 - accuracy: 0.1720\n",
      "Epoch 35/100\n",
      "93/93 [==============================] - 10s 108ms/step - loss: 0.0136 - accuracy: 0.1719\n",
      "Epoch 36/100\n",
      "93/93 [==============================] - 10s 107ms/step - loss: 0.0137 - accuracy: 0.1718\n",
      "Epoch 37/100\n",
      "93/93 [==============================] - 10s 107ms/step - loss: 0.0140 - accuracy: 0.1717\n",
      "Epoch 38/100\n",
      "93/93 [==============================] - 10s 107ms/step - loss: 0.0130 - accuracy: 0.1719\n",
      "Epoch 39/100\n",
      "93/93 [==============================] - 10s 107ms/step - loss: 0.0136 - accuracy: 0.1718\n",
      "Epoch 40/100\n",
      "93/93 [==============================] - 10s 107ms/step - loss: 0.0127 - accuracy: 0.1720\n",
      "Epoch 41/100\n",
      "93/93 [==============================] - 10s 107ms/step - loss: 0.0128 - accuracy: 0.1719\n",
      "Epoch 42/100\n",
      "93/93 [==============================] - 10s 107ms/step - loss: 0.0127 - accuracy: 0.1718\n",
      "Epoch 43/100\n",
      "93/93 [==============================] - 10s 107ms/step - loss: 0.0128 - accuracy: 0.1718\n",
      "Epoch 44/100\n",
      "93/93 [==============================] - 10s 107ms/step - loss: 0.0126 - accuracy: 0.1719\n",
      "Epoch 45/100\n",
      "93/93 [==============================] - 10s 107ms/step - loss: 0.0125 - accuracy: 0.1719\n",
      "Epoch 46/100\n",
      "93/93 [==============================] - 10s 107ms/step - loss: 0.0108 - accuracy: 0.1723\n",
      "Epoch 47/100\n",
      "93/93 [==============================] - 10s 107ms/step - loss: 0.0099 - accuracy: 0.1725\n",
      "Epoch 48/100\n",
      "93/93 [==============================] - 10s 107ms/step - loss: 0.0100 - accuracy: 0.1725\n",
      "Epoch 49/100\n",
      "93/93 [==============================] - 10s 107ms/step - loss: 0.0091 - accuracy: 0.1727\n",
      "Epoch 50/100\n",
      "93/93 [==============================] - 10s 107ms/step - loss: 0.0082 - accuracy: 0.1730\n",
      "Epoch 51/100\n",
      "93/93 [==============================] - 10s 107ms/step - loss: 0.0080 - accuracy: 0.1731\n",
      "Epoch 52/100\n",
      "93/93 [==============================] - 10s 107ms/step - loss: 0.0080 - accuracy: 0.1730\n",
      "Epoch 53/100\n",
      "93/93 [==============================] - 10s 107ms/step - loss: 0.0078 - accuracy: 0.1730\n",
      "Epoch 54/100\n",
      "93/93 [==============================] - 10s 107ms/step - loss: 0.0073 - accuracy: 0.1732\n",
      "Epoch 55/100\n",
      "93/93 [==============================] - 10s 107ms/step - loss: 0.0064 - accuracy: 0.1734\n",
      "Epoch 56/100\n",
      "93/93 [==============================] - 10s 107ms/step - loss: 0.0068 - accuracy: 0.1733\n",
      "Epoch 57/100\n",
      "93/93 [==============================] - 10s 107ms/step - loss: 0.0060 - accuracy: 0.1735\n",
      "Epoch 58/100\n",
      "93/93 [==============================] - 10s 107ms/step - loss: 0.0057 - accuracy: 0.1736\n",
      "Epoch 59/100\n",
      "93/93 [==============================] - 10s 107ms/step - loss: 0.0056 - accuracy: 0.1736\n",
      "Epoch 60/100\n",
      "93/93 [==============================] - 10s 107ms/step - loss: 0.0055 - accuracy: 0.1736\n",
      "Epoch 61/100\n",
      "93/93 [==============================] - 10s 107ms/step - loss: 0.0050 - accuracy: 0.1736\n",
      "Epoch 62/100\n",
      "93/93 [==============================] - 10s 107ms/step - loss: 0.0052 - accuracy: 0.1737\n",
      "Epoch 63/100\n",
      "93/93 [==============================] - 10s 107ms/step - loss: 0.0048 - accuracy: 0.1736\n",
      "Epoch 64/100\n",
      "93/93 [==============================] - 10s 107ms/step - loss: 0.0046 - accuracy: 0.1738\n",
      "Epoch 65/100\n",
      "93/93 [==============================] - 10s 107ms/step - loss: 0.0043 - accuracy: 0.1738\n",
      "Epoch 66/100\n",
      "93/93 [==============================] - 10s 107ms/step - loss: 0.0041 - accuracy: 0.1739\n",
      "Epoch 67/100\n",
      "93/93 [==============================] - 10s 107ms/step - loss: 0.0041 - accuracy: 0.1739\n",
      "Epoch 68/100\n",
      "93/93 [==============================] - 10s 107ms/step - loss: 0.0036 - accuracy: 0.1740\n",
      "Epoch 69/100\n",
      "93/93 [==============================] - 10s 107ms/step - loss: 0.0037 - accuracy: 0.1739\n",
      "Epoch 70/100\n",
      "93/93 [==============================] - 10s 107ms/step - loss: 0.0039 - accuracy: 0.1739\n",
      "Epoch 71/100\n",
      "93/93 [==============================] - 10s 107ms/step - loss: 0.0036 - accuracy: 0.1739\n",
      "Epoch 72/100\n",
      "93/93 [==============================] - 10s 107ms/step - loss: 0.0036 - accuracy: 0.1739\n",
      "Epoch 73/100\n",
      "93/93 [==============================] - 10s 107ms/step - loss: 0.0034 - accuracy: 0.1739\n",
      "Epoch 74/100\n",
      "93/93 [==============================] - 10s 107ms/step - loss: 0.0033 - accuracy: 0.1740\n",
      "Epoch 75/100\n",
      "93/93 [==============================] - 10s 107ms/step - loss: 0.0032 - accuracy: 0.1740\n",
      "Epoch 76/100\n",
      "93/93 [==============================] - 10s 107ms/step - loss: 0.0033 - accuracy: 0.1740\n",
      "Epoch 77/100\n",
      "93/93 [==============================] - 10s 107ms/step - loss: 0.0034 - accuracy: 0.1740\n",
      "Epoch 78/100\n",
      "93/93 [==============================] - 10s 107ms/step - loss: 0.0029 - accuracy: 0.1741\n",
      "Epoch 79/100\n",
      "93/93 [==============================] - 10s 107ms/step - loss: 0.0026 - accuracy: 0.1741\n",
      "Epoch 80/100\n",
      "93/93 [==============================] - 10s 107ms/step - loss: 0.0030 - accuracy: 0.1741\n",
      "Epoch 81/100\n",
      "93/93 [==============================] - 10s 107ms/step - loss: 0.0027 - accuracy: 0.1741\n",
      "Epoch 82/100\n",
      "93/93 [==============================] - 10s 107ms/step - loss: 0.0025 - accuracy: 0.1741\n",
      "Epoch 83/100\n",
      "93/93 [==============================] - 10s 107ms/step - loss: 0.0025 - accuracy: 0.1741\n",
      "Epoch 84/100\n",
      "93/93 [==============================] - 10s 107ms/step - loss: 0.0026 - accuracy: 0.1741\n",
      "Epoch 85/100\n",
      "93/93 [==============================] - 10s 107ms/step - loss: 0.0026 - accuracy: 0.1741\n",
      "Epoch 86/100\n",
      "93/93 [==============================] - 10s 107ms/step - loss: 0.0026 - accuracy: 0.1741\n",
      "Epoch 87/100\n",
      "93/93 [==============================] - 10s 107ms/step - loss: 0.0023 - accuracy: 0.1742\n",
      "Epoch 88/100\n",
      "93/93 [==============================] - 10s 107ms/step - loss: 0.0022 - accuracy: 0.1741\n",
      "Epoch 89/100\n",
      "93/93 [==============================] - 10s 107ms/step - loss: 0.0027 - accuracy: 0.1741\n",
      "Epoch 90/100\n",
      "93/93 [==============================] - 10s 106ms/step - loss: 0.0024 - accuracy: 0.1741\n",
      "Epoch 91/100\n",
      "93/93 [==============================] - 10s 107ms/step - loss: 0.0023 - accuracy: 0.1742\n",
      "Epoch 92/100\n",
      "93/93 [==============================] - 10s 107ms/step - loss: 0.0021 - accuracy: 0.1742\n",
      "Epoch 93/100\n",
      "93/93 [==============================] - 10s 107ms/step - loss: 0.0021 - accuracy: 0.1742\n",
      "Epoch 94/100\n",
      "93/93 [==============================] - 10s 106ms/step - loss: 0.0019 - accuracy: 0.1742\n",
      "Epoch 95/100\n",
      "93/93 [==============================] - 10s 107ms/step - loss: 0.0020 - accuracy: 0.1742\n",
      "Epoch 96/100\n",
      "93/93 [==============================] - 10s 107ms/step - loss: 0.0020 - accuracy: 0.1742\n",
      "Epoch 97/100\n",
      "93/93 [==============================] - 10s 107ms/step - loss: 0.0019 - accuracy: 0.1742\n",
      "Epoch 98/100\n",
      "93/93 [==============================] - 10s 107ms/step - loss: 0.0019 - accuracy: 0.1742\n",
      "Epoch 99/100\n",
      "93/93 [==============================] - 10s 107ms/step - loss: 0.0019 - accuracy: 0.1742\n",
      "Epoch 100/100\n",
      "93/93 [==============================] - 10s 107ms/step - loss: 0.0018 - accuracy: 0.1742\n"
     ]
    }
   ],
   "source": [
    "EPOCHS = 100\n",
    "history = model.fit(dataset, epochs=EPOCHS, verbose=1)"
   ]
  },
  {
   "cell_type": "markdown",
   "id": "0783f6f6",
   "metadata": {},
   "source": [
    "# 4. 모델 평가하기\n",
    "- loss 와 accuracy 그래프를 출력하여 확인해본다."
   ]
  },
  {
   "cell_type": "markdown",
   "id": "0f9fbc64",
   "metadata": {},
   "source": [
    "- loss"
   ]
  },
  {
   "cell_type": "code",
   "execution_count": 40,
   "id": "dca82235",
   "metadata": {},
   "outputs": [
    {
     "data": {
      "image/png": "[encoded data removed]",
      "text/plain": [
       "<Figure size 432x288 with 1 Axes>"
      ]
     },
     "metadata": {
      "needs_background": "light"
     },
     "output_type": "display_data"
    }
   ],
   "source": [
    "plt.plot(history.history['loss'], label='train')\n",
    "plt.legend()\n",
    "plt.show()"
   ]
  },
  {
   "cell_type": "markdown",
   "id": "0cec0f9b",
   "metadata": {},
   "source": [
    "- accuracy"
   ]
  },
  {
   "cell_type": "code",
   "execution_count": 41,
   "id": "aa56a209",
   "metadata": {},
   "outputs": [
    {
     "data": {
      "image/png": "[encoded data removed]",
      "text/plain": [
       "<Figure size 432x288 with 1 Axes>"
      ]
     },
     "metadata": {
      "needs_background": "light"
     },
     "output_type": "display_data"
    }
   ],
   "source": [
    "plt.plot(history.history['accuracy'], label='train')\n",
    "plt.legend()\n",
    "plt.show()"
   ]
  },
  {
   "cell_type": "markdown",
   "id": "aef07d1b",
   "metadata": {},
   "source": [
    "- Step 1에서 선택한 전처리 방법을 고려하여 입력된 문장에 대해서 대답을 얻는 예측 함수를 만들어본다.\n",
    "- 학습시킨 트랜스포머 모델을 사용하여 입력한 문장을 인코딩하고 디코딩하는 과정을 수행하는 함수"
   ]
  },
  {
   "cell_type": "code",
   "execution_count": 44,
   "id": "c9b15671",
   "metadata": {},
   "outputs": [],
   "source": [
    "def decoder_inference(sentence):\n",
    "    sentence = preprocess_sentence(sentence)\n",
    "\n",
    "    # 입력된 문장을 정수 인코딩 후, 시작 토큰과 종료 토큰을 앞뒤로 추가\n",
    "    # ex) Where have you been? → [[8331   86   30    5 1059    7 8332]]\n",
    "    sentence = tf.expand_dims(\n",
    "      START_TOKEN + tokenizer.encode(sentence) + END_TOKEN, axis=0)\n",
    "\n",
    "    # 디코더의 현재까지의 예측한 출력 시퀀스가 지속적으로 저장되는 변수\n",
    "    output_sequence = tf.expand_dims(START_TOKEN, 0)\n",
    "\n",
    "    for i in range(MAX_LENGTH):\n",
    "        # 디코더는 최대 MAX_LENGTH의 길이만큼 다음 단어 예측을 반복\n",
    "        predictions = model(inputs=[sentence, output_sequence], training=False)\n",
    "        predictions = predictions[:, -1:, :]\n",
    "\n",
    "        # 현재 예측한 단어의 정수\n",
    "        predicted_id = tf.cast(tf.argmax(predictions, axis=-1), tf.int32)\n",
    "\n",
    "        # 만약 현재 예측한 단어가 종료 토큰이라면 for문을 종료\n",
    "        if tf.equal(predicted_id, END_TOKEN[0]):\n",
    "              break\n",
    "\n",
    "        # 예측한 단어들은 지속적으로 output_sequence에 추가\n",
    "        # 이 output_sequence는 다시 디코더의 입력이 됩니다.\n",
    "        output_sequence = tf.concat([output_sequence, predicted_id], axis=-1)\n",
    "\n",
    "    return tf.squeeze(output_sequence, axis=0)"
   ]
  },
  {
   "cell_type": "markdown",
   "id": "2aba1cd2",
   "metadata": {},
   "source": [
    "- 예측된 문장을 생성하여 출력"
   ]
  },
  {
   "cell_type": "code",
   "execution_count": 45,
   "id": "dec10108",
   "metadata": {},
   "outputs": [],
   "source": [
    "def sentence_generation(sentence):\n",
    "    # 입력 문장에 대해서 디코더를 동작 시켜 예측된 정수 시퀀스를 리턴\n",
    "    prediction = decoder_inference(sentence)\n",
    "\n",
    "    # 정수 시퀀스를 다시 텍스트 시퀀스로 변환\n",
    "    predicted_sentence = tokenizer.decode(\n",
    "      [i for i in prediction if i < tokenizer.vocab_size])\n",
    "\n",
    "    print('입력 : {}'.format(sentence))\n",
    "    print('출력 : {}'.format(predicted_sentence))\n",
    "\n",
    "    return predicted_sentence"
   ]
  },
  {
   "cell_type": "code",
   "execution_count": 46,
   "id": "68341c1b",
   "metadata": {},
   "outputs": [
    {
     "name": "stdout",
     "output_type": "stream",
     "text": [
      "입력 : 오늘 뭐해요?\n",
      "출력 : 저도 좀 알려주세요 .\n"
     ]
    },
    {
     "data": {
      "text/plain": [
       "'저도 좀 알려주세요 .'"
      ]
     },
     "execution_count": 46,
     "metadata": {},
     "output_type": "execute_result"
    }
   ],
   "source": [
    "sentence_generation('오늘 뭐해요?')"
   ]
  },
  {
   "cell_type": "code",
   "execution_count": 47,
   "id": "afb161c9",
   "metadata": {},
   "outputs": [
    {
     "name": "stdout",
     "output_type": "stream",
     "text": [
      "입력 : 오늘 뭐해요\n",
      "출력 : 저도 좀 알려주세요 .\n"
     ]
    },
    {
     "data": {
      "text/plain": [
       "'저도 좀 알려주세요 .'"
      ]
     },
     "execution_count": 47,
     "metadata": {},
     "output_type": "execute_result"
    }
   ],
   "source": [
    "sentence_generation('오늘 뭐해요')"
   ]
  },
  {
   "cell_type": "code",
   "execution_count": 48,
   "id": "dbbce75e",
   "metadata": {},
   "outputs": [
    {
     "name": "stdout",
     "output_type": "stream",
     "text": [
      "입력 : 오늘 바빠요\n",
      "출력 : 하나씩 하세요 .\n"
     ]
    },
    {
     "data": {
      "text/plain": [
       "'하나씩 하세요 .'"
      ]
     },
     "execution_count": 48,
     "metadata": {},
     "output_type": "execute_result"
    }
   ],
   "source": [
    "sentence_generation('오늘 바빠요')"
   ]
  },
  {
   "cell_type": "code",
   "execution_count": 49,
   "id": "412f5fe3",
   "metadata": {},
   "outputs": [
    {
     "name": "stdout",
     "output_type": "stream",
     "text": [
      "입력 : 오늘 바빠요?\n",
      "출력 : 하나씩 하세요 .\n"
     ]
    },
    {
     "data": {
      "text/plain": [
       "'하나씩 하세요 .'"
      ]
     },
     "execution_count": 49,
     "metadata": {},
     "output_type": "execute_result"
    }
   ],
   "source": [
    "sentence_generation('오늘 바빠요?')"
   ]
  },
  {
   "cell_type": "code",
   "execution_count": 50,
   "id": "8c457306",
   "metadata": {},
   "outputs": [
    {
     "name": "stdout",
     "output_type": "stream",
     "text": [
      "입력 : 오늘 왜그래\n",
      "출력 : 자신에게 물어보세요 .\n"
     ]
    },
    {
     "data": {
      "text/plain": [
       "'자신에게 물어보세요 .'"
      ]
     },
     "execution_count": 50,
     "metadata": {},
     "output_type": "execute_result"
    }
   ],
   "source": [
    "sentence_generation('오늘 왜그래')"
   ]
  },
  {
   "cell_type": "code",
   "execution_count": 51,
   "id": "24432a4d",
   "metadata": {},
   "outputs": [
    {
     "name": "stdout",
     "output_type": "stream",
     "text": [
      "입력 : 오늘 왜그래?\n",
      "출력 : 자신에게 물어보세요 .\n"
     ]
    },
    {
     "data": {
      "text/plain": [
       "'자신에게 물어보세요 .'"
      ]
     },
     "execution_count": 51,
     "metadata": {},
     "output_type": "execute_result"
    }
   ],
   "source": [
    "sentence_generation('오늘 왜그래?')"
   ]
  },
  {
   "cell_type": "code",
   "execution_count": 54,
   "id": "6c72bf05",
   "metadata": {},
   "outputs": [
    {
     "name": "stdout",
     "output_type": "stream",
     "text": [
      "입력 : 공부하기 싫어\n",
      "출력 : 잠시 쉬어도 돼요 .\n"
     ]
    },
    {
     "data": {
      "text/plain": [
       "'잠시 쉬어도 돼요 .'"
      ]
     },
     "execution_count": 54,
     "metadata": {},
     "output_type": "execute_result"
    }
   ],
   "source": [
    "sentence_generation('공부하기 싫어')"
   ]
  },
  {
   "cell_type": "code",
   "execution_count": 55,
   "id": "35010550",
   "metadata": {},
   "outputs": [
    {
     "name": "stdout",
     "output_type": "stream",
     "text": [
      "입력 : 공부하기 싫어?\n",
      "출력 : 잠시 쉬어도 돼요 .\n"
     ]
    },
    {
     "data": {
      "text/plain": [
       "'잠시 쉬어도 돼요 .'"
      ]
     },
     "execution_count": 55,
     "metadata": {},
     "output_type": "execute_result"
    }
   ],
   "source": [
    "sentence_generation('공부하기 싫어?')"
   ]
  },
  {
   "cell_type": "markdown",
   "id": "a2ac62f4",
   "metadata": {},
   "source": [
    "- 평서문과 전처리와 토큰화 과정에서 특수문자를 생략했으므로 질문과 평서문에 대한 구분이 불가능하다는 것을 알 수 있었다.\n",
    "    - 질문형 문장과 평서문 모두 동일한 대답을 출력했다."
   ]
  },
  {
   "cell_type": "code",
   "execution_count": 57,
   "id": "db51e0fb",
   "metadata": {},
   "outputs": [
    {
     "name": "stdout",
     "output_type": "stream",
     "text": [
      "입력 : 피씨방 갈래\n",
      "출력 : 말해보세요 .\n"
     ]
    },
    {
     "data": {
      "text/plain": [
       "'말해보세요 .'"
      ]
     },
     "execution_count": 57,
     "metadata": {},
     "output_type": "execute_result"
    }
   ],
   "source": [
    "sentence_generation('피씨방 갈래')"
   ]
  },
  {
   "cell_type": "code",
   "execution_count": 58,
   "id": "50ce7ec0",
   "metadata": {},
   "outputs": [
    {
     "name": "stdout",
     "output_type": "stream",
     "text": [
      "입력 : 어떤 게임 좋아해\n",
      "출력 : 마음이 따뜻할 것 같아요 .\n"
     ]
    },
    {
     "data": {
      "text/plain": [
       "'마음이 따뜻할 것 같아요 .'"
      ]
     },
     "execution_count": 58,
     "metadata": {},
     "output_type": "execute_result"
    }
   ],
   "source": [
    "sentence_generation('어떤 게임 좋아해')"
   ]
  },
  {
   "cell_type": "code",
   "execution_count": 59,
   "id": "98cf011d",
   "metadata": {},
   "outputs": [
    {
     "name": "stdout",
     "output_type": "stream",
     "text": [
      "입력 : 아이펠\n",
      "출력 : 많이 힘든가봅니다 .\n"
     ]
    },
    {
     "data": {
      "text/plain": [
       "'많이 힘든가봅니다 .'"
      ]
     },
     "execution_count": 59,
     "metadata": {},
     "output_type": "execute_result"
    }
   ],
   "source": [
    "sentence_generation('아이펠')"
   ]
  },
  {
   "cell_type": "markdown",
   "id": "1f6f40ff",
   "metadata": {},
   "source": [
    "- 외래어, 지엽적인 단어들이 포함되는 문장에서 다소 엉뚱한 답변을 하는 경향이 보였다."
   ]
  },
  {
   "cell_type": "code",
   "execution_count": 65,
   "id": "d10df5e8",
   "metadata": {},
   "outputs": [
    {
     "name": "stdout",
     "output_type": "stream",
     "text": [
      "입력 : 놀러가고 싶다\n",
      "출력 : 탁 트인 바다 좋죠 !\n"
     ]
    },
    {
     "data": {
      "text/plain": [
       "'탁 트인 바다 좋죠 !'"
      ]
     },
     "execution_count": 65,
     "metadata": {},
     "output_type": "execute_result"
    }
   ],
   "source": [
    "sentence_generation('놀러가고 싶다')"
   ]
  },
  {
   "cell_type": "code",
   "execution_count": 67,
   "id": "4e5eda0e",
   "metadata": {},
   "outputs": [
    {
     "name": "stdout",
     "output_type": "stream",
     "text": [
      "입력 : 면접 탈락했어\n",
      "출력 : 회사와 자신에 대해서 더 공부해서 자신감을 가져보세요 .\n"
     ]
    },
    {
     "data": {
      "text/plain": [
       "'회사와 자신에 대해서 더 공부해서 자신감을 가져보세요 .'"
      ]
     },
     "execution_count": 67,
     "metadata": {},
     "output_type": "execute_result"
    }
   ],
   "source": [
    "sentence_generation('면접 탈락했어')"
   ]
  },
  {
   "cell_type": "code",
   "execution_count": 68,
   "id": "d7b356d6",
   "metadata": {},
   "outputs": [
    {
     "name": "stdout",
     "output_type": "stream",
     "text": [
      "입력 : 공부 잘하고싶어\n",
      "출력 : 지금도 충분히 잘하고 있어요 .\n"
     ]
    },
    {
     "data": {
      "text/plain": [
       "'지금도 충분히 잘하고 있어요 .'"
      ]
     },
     "execution_count": 68,
     "metadata": {},
     "output_type": "execute_result"
    }
   ],
   "source": [
    "sentence_generation('공부 잘하고싶어')"
   ]
  },
  {
   "cell_type": "code",
   "execution_count": 69,
   "id": "8d6edae5",
   "metadata": {},
   "outputs": [
    {
     "name": "stdout",
     "output_type": "stream",
     "text": [
      "입력 : 피곤해\n",
      "출력 : 그 사람을 위해 에너지를 쓰니까요 .\n"
     ]
    },
    {
     "data": {
      "text/plain": [
       "'그 사람을 위해 에너지를 쓰니까요 .'"
      ]
     },
     "execution_count": 69,
     "metadata": {},
     "output_type": "execute_result"
    }
   ],
   "source": [
    "sentence_generation('피곤해')"
   ]
  },
  {
   "cell_type": "code",
   "execution_count": 77,
   "id": "c88b37c0",
   "metadata": {},
   "outputs": [
    {
     "name": "stdout",
     "output_type": "stream",
     "text": [
      "입력 : 짜증나\n",
      "출력 : 짜증날 때는 기분 푸는 음악 어때요 ?\n"
     ]
    },
    {
     "data": {
      "text/plain": [
       "'짜증날 때는 기분 푸는 음악 어때요 ?'"
      ]
     },
     "execution_count": 77,
     "metadata": {},
     "output_type": "execute_result"
    }
   ],
   "source": [
    "sentence_generation('짜증나')"
   ]
  },
  {
   "cell_type": "markdown",
   "id": "fa1a5331",
   "metadata": {},
   "source": [
    "- 평서문에서는 실제 대화를 하는 듯한 답변을 내 놓았다."
   ]
  },
  {
   "cell_type": "markdown",
   "id": "1240a263",
   "metadata": {},
   "source": [
    "# 5. 회고"
   ]
  },
  {
   "cell_type": "markdown",
   "id": "198abdfa",
   "metadata": {},
   "source": [
    "- 평서문에서는 실제 대화를 하는 듯한 답변을 내 놓았다.\n",
    "- 평서문과 전처리와 토큰화 과정에서 특수문자를 생략했으므로 질문과 평서문에 대한 구분이 불가능하다는 것을 알 수 있었다.\n",
    "    - 질문형 문장과 평서문 모두 동일한 대답을 출력했다.\n",
    "- 외래어, 지엽적인 단어들이 포함되는 문장에서 다소 엉뚱한 답변을 하는 경향이 보였다.\n",
    "- loss 와 accuracy 결과로만 보았을 때, 학습이 순조롭게 잘 되었다고 판단하였지만 실제 출력결과를 보았을 때 논리적으로 맞지 않는 답변이 나타났음을 확인했다.\n",
    "    - 이 문제는 여러가지 요인들로 인하여 발생할 수 있다.\n",
    "    - 1. 데이터의 품질과 양이 요인이 될 수 있다. 데이터가 충분하지 않은 경우, 논리적으로 오류가 있거나 잘못된 정보가 포함되어 있을 경우 위와 같은 문제들이 발생할 수 있다. 본 예시에서는 데이터의 양이 충분하지 않은 것으로 예측해볼 수 있다.\n",
    "    - 2. 모델이 학습중에 보지 못한 단어나 구문에 대한 적절한 처리가 이루어지지는 않았다."
   ]
  }
 ],
 "metadata": {
  "kernelspec": {
   "display_name": "Python 3 (ipykernel)",
   "language": "python",
   "name": "python3"
  },
  "language_info": {
   "codemirror_mode": {
    "name": "ipython",
    "version": 3
   },
   "file_extension": ".py",
   "mimetype": "text/x-python",
   "name": "python",
   "nbconvert_exporter": "python",
   "pygments_lexer": "ipython3",
   "version": "3.9.7"
  }
 },
 "nbformat": 4,
 "nbformat_minor": 5
}
